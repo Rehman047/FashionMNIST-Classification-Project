{
  "cells": [
    {
      "cell_type": "markdown",
      "metadata": {
        "id": "view-in-github",
        "colab_type": "text"
      },
      "source": [
        "<a href=\"https://colab.research.google.com/github/Rehman047/FashionMNIST-Classification-Project/blob/main/fashion_mnist_project.ipynb\" target=\"_parent\"><img src=\"https://colab.research.google.com/assets/colab-badge.svg\" alt=\"Open In Colab\"/></a>"
      ]
    },
    {
      "cell_type": "code",
      "execution_count": 2,
      "metadata": {
        "id": "GHOSbGYYGwy5"
      },
      "outputs": [],
      "source": [
        "import torch.nn as nn\n",
        "import pandas as pd\n",
        "import torch\n",
        "import matplotlib.pyplot as plt\n",
        "import torch.optim as optim\n",
        "from torch.utils.data import Dataset, DataLoader\n",
        "from sklearn.model_selection import train_test_split"
      ]
    },
    {
      "cell_type": "code",
      "execution_count": 3,
      "metadata": {
        "colab": {
          "base_uri": "https://localhost:8080/"
        },
        "id": "GGCTov5mJRWf",
        "outputId": "afb54799-a137-48fa-f653-d021922b4c8c"
      },
      "outputs": [
        {
          "output_type": "execute_result",
          "data": {
            "text/plain": [
              "<torch._C.Generator at 0x79261d18bfd0>"
            ]
          },
          "metadata": {},
          "execution_count": 3
        }
      ],
      "source": [
        "torch.manual_seed(42)"
      ]
    },
    {
      "cell_type": "code",
      "execution_count": 4,
      "metadata": {
        "colab": {
          "base_uri": "https://localhost:8080/"
        },
        "id": "ZysCNm19-9wJ",
        "outputId": "061c1b17-cd8a-4353-ff34-3c6906ff15ec"
      },
      "outputs": [
        {
          "output_type": "execute_result",
          "data": {
            "text/plain": [
              "device(type='cuda')"
            ]
          },
          "metadata": {},
          "execution_count": 4
        }
      ],
      "source": [
        "device=torch.device('cuda' if torch.cuda.is_available() else 'cpu')\n",
        "device"
      ]
    },
    {
      "cell_type": "code",
      "execution_count": 5,
      "metadata": {
        "colab": {
          "base_uri": "https://localhost:8080/"
        },
        "id": "nKjkH1uqJ8QV",
        "outputId": "993dbadb-4a6b-440e-aa8d-afe0eb567e40"
      },
      "outputs": [
        {
          "output_type": "execute_result",
          "data": {
            "text/plain": [
              "(60000, 785)"
            ]
          },
          "metadata": {},
          "execution_count": 5
        }
      ],
      "source": [
        "df=pd.read_csv('fashion-mnist_train.csv')\n",
        "df.shape"
      ]
    },
    {
      "cell_type": "code",
      "execution_count": 6,
      "metadata": {
        "id": "tg2ISc4QKCt0"
      },
      "outputs": [],
      "source": [
        "x=df.iloc[:,1:].values"
      ]
    },
    {
      "cell_type": "code",
      "execution_count": 7,
      "metadata": {
        "id": "LoRc4sOYKJ28"
      },
      "outputs": [],
      "source": [
        "y=df['label'].values"
      ]
    },
    {
      "cell_type": "code",
      "execution_count": 8,
      "metadata": {
        "id": "IvXciSoFNxQl"
      },
      "outputs": [],
      "source": [
        "xtr,xte,ytr,yte=train_test_split(x,y,test_size=0.2)"
      ]
    },
    {
      "cell_type": "code",
      "execution_count": 9,
      "metadata": {
        "id": "WYudnnJOK-wk"
      },
      "outputs": [],
      "source": [
        "xtr=xtr/255.0\n",
        "xte=xte/255.0"
      ]
    },
    {
      "cell_type": "code",
      "execution_count": 10,
      "metadata": {
        "id": "WTfo6sE1L3yJ"
      },
      "outputs": [],
      "source": [
        "class CDataset(Dataset):\n",
        "  def __init__(self, x,y):\n",
        "    self.x=torch.tensor(x,dtype=torch.float32)\n",
        "    self.y=torch.tensor(y,dtype=torch.long)\n",
        "  def __len__(self):\n",
        "    return self.x.shape[0]\n",
        "  def __getitem__(self, index):\n",
        "    return self.x[index],self.y[index]"
      ]
    },
    {
      "cell_type": "code",
      "execution_count": 11,
      "metadata": {
        "id": "DS5-yGunMDp6"
      },
      "outputs": [],
      "source": [
        "traind=CDataset(xtr,ytr)\n",
        "testd=CDataset(xte,yte)"
      ]
    },
    {
      "cell_type": "code",
      "source": [
        "print(torch.__version__)"
      ],
      "metadata": {
        "colab": {
          "base_uri": "https://localhost:8080/"
        },
        "id": "5-VYolvJsBrz",
        "outputId": "95cf88bd-ac1b-451f-e77e-6a617fa1253b"
      },
      "execution_count": 12,
      "outputs": [
        {
          "output_type": "stream",
          "name": "stdout",
          "text": [
            "2.8.0+cu126\n"
          ]
        }
      ]
    },
    {
      "cell_type": "code",
      "source": [
        "class CNN(nn.Module):\n",
        "    def __init__(self):\n",
        "        super().__init__()\n",
        "        self.extractor=nn.Sequential(\n",
        "            nn.Conv2d(1,32,kernel_size=3,padding='same'),\n",
        "            nn.ReLU(),\n",
        "            nn.BatchNorm2d(32),\n",
        "            nn.MaxPool2d(kernel_size=2,stride=2),\n",
        "\n",
        "            nn.Conv2d(32,64,kernel_size=3,padding='same'),\n",
        "            nn.ReLU(),\n",
        "            nn.BatchNorm2d(64),\n",
        "            nn.MaxPool2d(kernel_size=2,stride=2)\n",
        "        )\n",
        "        self.classifier = nn.Sequential(\n",
        "            nn.Linear(64*7*7, 128),\n",
        "            nn.BatchNorm1d(128),\n",
        "            nn.ReLU(),\n",
        "            nn.Dropout(p=0.3),\n",
        "            nn.Linear(128, 64),\n",
        "            nn.BatchNorm1d(64),\n",
        "            nn.ReLU(),\n",
        "            nn.Dropout(p=0.3),\n",
        "            nn.Linear(64, 10)\n",
        "        )\n",
        "\n",
        "    def forward(self, x):\n",
        "      # reshape only if input is flattened\n",
        "      if x.dim() == 2:\n",
        "          x = x.view(-1, 1, 28, 28)\n",
        "      x = self.extractor(x)\n",
        "      x = torch.flatten(x, 1)\n",
        "      return self.classifier(x)\n"
      ],
      "metadata": {
        "id": "GlSz40MxmtfB"
      },
      "execution_count": 13,
      "outputs": []
    },
    {
      "cell_type": "code",
      "source": [
        "train_loader=DataLoader(traind,32,True,pin_memory=True)\n",
        "test_loader=DataLoader(testd,32,False,pin_memory=True)"
      ],
      "metadata": {
        "id": "T_dAikN6nYrv"
      },
      "execution_count": 14,
      "outputs": []
    },
    {
      "cell_type": "code",
      "source": [
        "model = CNN()\n",
        "\n",
        "model.to(device)\n",
        "\n",
        "criterion = nn.CrossEntropyLoss()\n",
        "optimizer = optim.SGD(model.parameters(), lr=0.1, weight_decay=1e-4)\n",
        "learning_rate = 0.01\n",
        "epochs = 100"
      ],
      "metadata": {
        "id": "4y8DdQ1wm1wV"
      },
      "execution_count": 15,
      "outputs": []
    },
    {
      "cell_type": "code",
      "source": [
        "# training loop\n",
        "\n",
        "for epoch in range(epochs):\n",
        "\n",
        "  total_epoch_loss = 0\n",
        "\n",
        "  for batch_features, batch_labels in test_loader:\n",
        "\n",
        "    # move data to gpu\n",
        "    batch_features, batch_labels = batch_features.to(device), batch_labels.to(device)\n",
        "\n",
        "    # forward pass\n",
        "    outputs = model(batch_features)\n",
        "\n",
        "    # calculate loss\n",
        "    loss = criterion(outputs, batch_labels)\n",
        "\n",
        "    # back pass\n",
        "    optimizer.zero_grad()\n",
        "    loss.backward()\n",
        "\n",
        "    # update grads\n",
        "    optimizer.step()\n",
        "\n",
        "    total_epoch_loss = total_epoch_loss + loss.item()\n",
        "\n",
        "  avg_loss = total_epoch_loss/len(train_loader)\n",
        "  if epoch%10==0:\n",
        "    print(f'Epoch: {epoch + 1} , Loss: {avg_loss}')\n"
      ],
      "metadata": {
        "colab": {
          "base_uri": "https://localhost:8080/"
        },
        "id": "FlQsxymvm6-D",
        "outputId": "482ddd07-3022-4345-900e-91504631c373"
      },
      "execution_count": 16,
      "outputs": [
        {
          "output_type": "stream",
          "name": "stdout",
          "text": [
            "Epoch: 1 , Loss: 0.46734406948586305\n",
            "Epoch: 11 , Loss: 0.15631249870546163\n",
            "Epoch: 21 , Loss: 0.10158562458663557\n",
            "Epoch: 31 , Loss: 0.07363534550842209\n",
            "Epoch: 41 , Loss: 0.058758640388065636\n",
            "Epoch: 51 , Loss: 0.05366493678104598\n",
            "Epoch: 61 , Loss: 0.04824248360656202\n",
            "Epoch: 71 , Loss: 0.046408210881481254\n",
            "Epoch: 81 , Loss: 0.04638439540650385\n",
            "Epoch: 91 , Loss: 0.04294805972146181\n"
          ]
        }
      ]
    },
    {
      "cell_type": "code",
      "source": [
        "# evaluation on test data\n",
        "total = 0\n",
        "correct = 0\n",
        "\n",
        "with torch.no_grad():\n",
        "\n",
        "  for batch_features, batch_labels in train_loader:\n",
        "\n",
        "    # move data to gpu\n",
        "    batch_features, batch_labels = batch_features.to(device), batch_labels.to(device)\n",
        "\n",
        "    outputs = model(batch_features)\n",
        "\n",
        "    _, predicted = torch.max(outputs, 1)\n",
        "\n",
        "    total = total + batch_labels.shape[0]\n",
        "\n",
        "    correct = correct + (predicted == batch_labels).sum().item()\n",
        "\n",
        "print(correct/total)"
      ],
      "metadata": {
        "colab": {
          "base_uri": "https://localhost:8080/"
        },
        "id": "L93SD2tfnCUt",
        "outputId": "c2a5eb05-415e-49b2-ab1e-c5b2dce613c1"
      },
      "execution_count": 23,
      "outputs": [
        {
          "output_type": "stream",
          "name": "stdout",
          "text": [
            "0.9857916666666666\n"
          ]
        }
      ]
    },
    {
      "cell_type": "code",
      "execution_count": null,
      "metadata": {
        "id": "kAj7tfSRVwuR"
      },
      "outputs": [],
      "source": [
        "class Model(nn.Module):\n",
        "  def __init__(self,inps,outs, num_layers, num_neurons,dropout_rate):\n",
        "    super().__init__()\n",
        "    layers=[]\n",
        "    for i in range(num_layers):\n",
        "      layers.append(nn.Linear(inps,num_neurons))\n",
        "      layers.append(nn.BatchNorm1d(num_neurons))\n",
        "      layers.append(nn.ReLU())\n",
        "      layers.append(nn.Dropout(dropout_rate))\n",
        "      inps=num_neurons\n",
        "    layers.append(nn.Linear(num_neurons,outs))\n",
        "    self.everything=nn.Sequential(*layers)\n",
        "  def forward(self,x):\n",
        "    return self.everything(x)"
      ]
    },
    {
      "cell_type": "code",
      "source": [
        "def objective(trial):\n",
        "\n",
        "  num_layers=trial.suggest_int('num_layers',1,5)\n",
        "  num_neurons=trial.suggest_int('num_neurons',64,321,step=64)\n",
        "  epochs=trial.suggest_int('epochs',10,50,step=10)\n",
        "  lr=trial.suggest_float('lr',1e-5,1e-1,log=True)\n",
        "  dropout_rate=trial.suggest_float('dropout_rate',0.1,0.5,step=0.1)\n",
        "  batch_size=trial.suggest_categorical('batch_size',[32,64,96,128])\n",
        "  optim_naam=trial.suggest_categorical('optim_naam',['Adam','SGD','RMSProp'])\n",
        "  wd=trial.suggest_float('wd',1e-5,1e-3,log=True)\n",
        "\n",
        "  train=DataLoader(traind,batch_size,True,pin_memory=True)\n",
        "  test=DataLoader(testd,batch_size,False,pin_memory=True)\n",
        "\n",
        "  model=Model(784,10,num_layers,num_neurons,dropout_rate)\n",
        "  model=model.to(device)\n",
        "\n",
        "  if optim_naam=='Adam':\n",
        "    optimizer=optim.Adam(model.parameters(),lr=lr,weight_decay=wd)\n",
        "  elif optim_naam=='SGD':\n",
        "    optimizer=optim.SGD(model.parameters(),lr=lr,weight_decay=wd)\n",
        "  else:\n",
        "    optimizer=optim.RMSprop(model.parameters(),lr=lr,weight_decay=wd)\n",
        "  criterion=nn.CrossEntropyLoss()\n",
        "\n",
        "  for epoch in range(epochs):\n",
        "\n",
        "    for xt,yt in train:\n",
        "      xt,yt=xt.to(device),yt.to(device)\n",
        "      y_pred=model(xt)\n",
        "      optimizer.zero_grad()\n",
        "      loss=criterion(y_pred,yt)\n",
        "      loss.backward()\n",
        "      optimizer.step()\n",
        "\n",
        "  correct=0\n",
        "  model.eval()\n",
        "  with torch.no_grad():\n",
        "    for xt,yt in test:\n",
        "      xt,yt=xt.to(device),yt.to(device)\n",
        "      y_pred=model(xt)\n",
        "      _,y_pred=torch.max(y_pred,dim=1)\n",
        "      correct+=(y_pred==yt).sum().item()\n",
        "  accuracy=correct/12000\n",
        "  return accuracy"
      ],
      "metadata": {
        "id": "ZQdwtsRtm0_g"
      },
      "execution_count": null,
      "outputs": []
    },
    {
      "cell_type": "code",
      "source": [
        "!pip install optuna\n",
        "import optuna\n",
        "study=optuna.create_study(direction='maximize')"
      ],
      "metadata": {
        "colab": {
          "base_uri": "https://localhost:8080/"
        },
        "id": "BZYsU1oQpUEe",
        "outputId": "17961298-12ce-4070-991b-6744df00840c"
      },
      "execution_count": null,
      "outputs": [
        {
          "output_type": "stream",
          "name": "stdout",
          "text": [
            "Requirement already satisfied: optuna in /usr/local/lib/python3.12/dist-packages (4.5.0)\n",
            "Requirement already satisfied: alembic>=1.5.0 in /usr/local/lib/python3.12/dist-packages (from optuna) (1.16.4)\n",
            "Requirement already satisfied: colorlog in /usr/local/lib/python3.12/dist-packages (from optuna) (6.9.0)\n",
            "Requirement already satisfied: numpy in /usr/local/lib/python3.12/dist-packages (from optuna) (2.0.2)\n",
            "Requirement already satisfied: packaging>=20.0 in /usr/local/lib/python3.12/dist-packages (from optuna) (25.0)\n",
            "Requirement already satisfied: sqlalchemy>=1.4.2 in /usr/local/lib/python3.12/dist-packages (from optuna) (2.0.43)\n",
            "Requirement already satisfied: tqdm in /usr/local/lib/python3.12/dist-packages (from optuna) (4.67.1)\n",
            "Requirement already satisfied: PyYAML in /usr/local/lib/python3.12/dist-packages (from optuna) (6.0.2)\n",
            "Requirement already satisfied: Mako in /usr/lib/python3/dist-packages (from alembic>=1.5.0->optuna) (1.1.3)\n",
            "Requirement already satisfied: typing-extensions>=4.12 in /usr/local/lib/python3.12/dist-packages (from alembic>=1.5.0->optuna) (4.14.1)\n",
            "Requirement already satisfied: greenlet>=1 in /usr/local/lib/python3.12/dist-packages (from sqlalchemy>=1.4.2->optuna) (3.2.4)\n"
          ]
        },
        {
          "output_type": "stream",
          "name": "stderr",
          "text": [
            "[I 2025-08-23 08:00:54,175] A new study created in memory with name: no-name-826423e7-9e1c-4ef5-8224-70e168e6bb23\n"
          ]
        }
      ]
    },
    {
      "cell_type": "code",
      "source": [
        "study.optimize(objective,n_trials=10)"
      ],
      "metadata": {
        "colab": {
          "base_uri": "https://localhost:8080/"
        },
        "id": "wGiYNkeGoXho",
        "outputId": "15239982-035d-4322-c9d7-ced88971522c"
      },
      "execution_count": null,
      "outputs": [
        {
          "output_type": "stream",
          "name": "stderr",
          "text": [
            "/usr/local/lib/python3.12/dist-packages/optuna/distributions.py:702: UserWarning: The distribution is specified by [64, 321] and step=64, but the range is not divisible by `step`. It will be replaced by [64, 320].\n",
            "  warnings.warn(\n",
            "[I 2025-08-23 08:01:33,516] Trial 0 finished with value: 0.7516666666666667 and parameters: {'num_layers': 2, 'num_neurons': 128, 'epochs': 20, 'lr': 0.00013044617366798854, 'dropout_rate': 0.4, 'batch_size': 64, 'optim_naam': 'SGD', 'wd': 0.0003440797123222834}. Best is trial 0 with value: 0.7516666666666667.\n",
            "[I 2025-08-23 08:02:10,425] Trial 1 finished with value: 0.8905 and parameters: {'num_layers': 3, 'num_neurons': 128, 'epochs': 30, 'lr': 0.00023601659632454958, 'dropout_rate': 0.1, 'batch_size': 128, 'optim_naam': 'RMSProp', 'wd': 0.00016846400781229278}. Best is trial 1 with value: 0.8905.\n",
            "[I 2025-08-23 08:02:47,507] Trial 2 finished with value: 0.78225 and parameters: {'num_layers': 4, 'num_neurons': 128, 'epochs': 20, 'lr': 0.05391696263695694, 'dropout_rate': 0.1, 'batch_size': 96, 'optim_naam': 'Adam', 'wd': 0.00023688779853168522}. Best is trial 1 with value: 0.8905.\n",
            "[I 2025-08-23 08:03:45,092] Trial 3 finished with value: 0.6708333333333333 and parameters: {'num_layers': 2, 'num_neurons': 192, 'epochs': 50, 'lr': 0.08166511077337985, 'dropout_rate': 0.30000000000000004, 'batch_size': 128, 'optim_naam': 'RMSProp', 'wd': 5.0665284366539454e-05}. Best is trial 1 with value: 0.8905.\n",
            "[I 2025-08-23 08:08:08,058] Trial 4 finished with value: 0.7711666666666667 and parameters: {'num_layers': 5, 'num_neurons': 192, 'epochs': 50, 'lr': 0.02631976079748772, 'dropout_rate': 0.5, 'batch_size': 32, 'optim_naam': 'RMSProp', 'wd': 2.616729566652857e-05}. Best is trial 1 with value: 0.8905.\n",
            "[I 2025-08-23 08:11:24,722] Trial 5 finished with value: 0.7089166666666666 and parameters: {'num_layers': 5, 'num_neurons': 256, 'epochs': 40, 'lr': 0.00013598403550493522, 'dropout_rate': 0.5, 'batch_size': 32, 'optim_naam': 'SGD', 'wd': 3.8850948648178054e-05}. Best is trial 1 with value: 0.8905.\n",
            "[I 2025-08-23 08:12:28,834] Trial 6 finished with value: 0.8860833333333333 and parameters: {'num_layers': 3, 'num_neurons': 320, 'epochs': 40, 'lr': 0.0016508831314063857, 'dropout_rate': 0.30000000000000004, 'batch_size': 96, 'optim_naam': 'Adam', 'wd': 0.00022343107062601844}. Best is trial 1 with value: 0.8905.\n",
            "[I 2025-08-23 08:13:22,806] Trial 7 finished with value: 0.8515833333333334 and parameters: {'num_layers': 5, 'num_neurons': 64, 'epochs': 10, 'lr': 0.00035720521000034164, 'dropout_rate': 0.4, 'batch_size': 32, 'optim_naam': 'Adam', 'wd': 0.00018057581458278248}. Best is trial 1 with value: 0.8905.\n",
            "[I 2025-08-23 08:16:00,469] Trial 8 finished with value: 0.8785833333333334 and parameters: {'num_layers': 5, 'num_neurons': 64, 'epochs': 30, 'lr': 0.00039358574716571787, 'dropout_rate': 0.2, 'batch_size': 32, 'optim_naam': 'RMSProp', 'wd': 0.0002577788437201568}. Best is trial 1 with value: 0.8905.\n",
            "[I 2025-08-23 08:16:42,437] Trial 9 finished with value: 0.77925 and parameters: {'num_layers': 1, 'num_neurons': 192, 'epochs': 40, 'lr': 8.166781244668397e-05, 'dropout_rate': 0.5, 'batch_size': 96, 'optim_naam': 'SGD', 'wd': 4.463133089211866e-05}. Best is trial 1 with value: 0.8905.\n"
          ]
        }
      ]
    },
    {
      "cell_type": "code",
      "execution_count": null,
      "metadata": {
        "id": "XyhE8xYAUkx4",
        "colab": {
          "base_uri": "https://localhost:8080/"
        },
        "outputId": "657c7f06-14cd-4a35-d183-c210b277a9de"
      },
      "outputs": [
        {
          "output_type": "execute_result",
          "data": {
            "text/plain": [
              "{'num_layers': 3,\n",
              " 'num_neurons': 128,\n",
              " 'epochs': 30,\n",
              " 'lr': 0.00023601659632454958,\n",
              " 'dropout_rate': 0.1,\n",
              " 'batch_size': 128,\n",
              " 'optim_naam': 'RMSProp',\n",
              " 'wd': 0.00016846400781229278}"
            ]
          },
          "metadata": {},
          "execution_count": 46
        }
      ],
      "source": [
        "study.best_params"
      ]
    }
  ],
  "metadata": {
    "accelerator": "GPU",
    "colab": {
      "gpuType": "T4",
      "provenance": [],
      "authorship_tag": "ABX9TyNsQfJ3H4RZ+hbt2BFE2Uxc",
      "include_colab_link": true
    },
    "kernelspec": {
      "display_name": "Python 3",
      "name": "python3"
    },
    "language_info": {
      "name": "python"
    }
  },
  "nbformat": 4,
  "nbformat_minor": 0
}